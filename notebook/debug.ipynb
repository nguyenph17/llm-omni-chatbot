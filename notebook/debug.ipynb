{
 "cells": [
  {
   "cell_type": "code",
   "execution_count": 3,
   "metadata": {},
   "outputs": [],
   "source": [
    "from sys import modules\n",
    "if modules.get(\"pytest\") is not None:\n",
    "    print(\"- Running in pytest mode.\")\n",
    "\n"
   ]
  },
  {
   "cell_type": "code",
   "execution_count": 6,
   "metadata": {},
   "outputs": [
    {
     "name": "stdout",
     "output_type": "stream",
     "text": [
      "'/redoc' matches the regex\n",
      "'/other_path' does not match the regex\n"
     ]
    }
   ],
   "source": [
    "import re\n",
    "\n",
    "EXCEPT_PATH_REGEX = re.compile(\"^(/docs|/redoc|/admin|/api/auth|/favicon.ico|/chat|/flutter_service_worker.js)\")\n",
    "\n",
    "# Test with a string that matches the regex\n",
    "path = \"/redoc\"\n",
    "if EXCEPT_PATH_REGEX.match(path):\n",
    "    print(f\"'{path}' matches the regex\")\n",
    "else:\n",
    "    print(f\"'{path}' does not match the regex\")\n",
    "\n",
    "# Test with a string that does not match the regex\n",
    "path = \"/other_path\"\n",
    "if EXCEPT_PATH_REGEX.match(path):\n",
    "    print(f\"'{path}' matches the regex\")\n",
    "else:\n",
    "    print(f\"'{path}' does not match the regex\")"
   ]
  },
  {
   "cell_type": "code",
   "execution_count": 7,
   "metadata": {},
   "outputs": [
    {
     "data": {
      "text/plain": [
       "Field(name=None,type=None,default=<dataclasses._MISSING_TYPE object at 0x7f4f3a5cb290>,default_factory=<function <lambda> at 0x7f4f3415f060>,init=True,repr=True,hash=None,compare=True,metadata=mappingproxy({}),kw_only=<dataclasses._MISSING_TYPE object at 0x7f4f3a5cb290>,_field_type=None)"
      ]
     },
     "execution_count": 7,
     "metadata": {},
     "output_type": "execute_result"
    }
   ],
   "source": [
    "from dataclasses import dataclass, field\n",
    "\n",
    "HOST_MAIN = \"www.example.com\"\n",
    "\n",
    "field(\n",
    "        default_factory=lambda: [\n",
    "            f\"*.{HOST_MAIN}\",\n",
    "            HOST_MAIN,\n",
    "            \"localhost\",\n",
    "        ]\n",
    "    )"
   ]
  },
  {
   "cell_type": "code",
   "execution_count": 5,
   "metadata": {},
   "outputs": [
    {
     "name": "stdout",
     "output_type": "stream",
     "text": [
      "'🤖 TFHub \\x1b[37mPHAM HOAI NGUYEN\\x1b[32m loaded!'\n"
     ]
    }
   ],
   "source": [
    "import sys\n",
    "sys.path.append(\"/mnt/d/Projects/omni-chatbot\")\n",
    "\n",
    "from pprint import pprint\n",
    "\n",
    "from app.utils.colorama import Fore, Style\n",
    "\n",
    "pprint(f\"🤖 TFHub {Fore.WHITE}PHAM HOAI NGUYEN{Fore.GREEN} loaded!\")\n",
    "\n",
    "with open(\"test.log\", \"w\") as f:\n",
    "    f.write(f\"🤖 TFHub {Fore.WHITE}PHAM HOAI NGUYEN{Fore.GREEN} loaded!\")"
   ]
  },
  {
   "cell_type": "code",
   "execution_count": null,
   "metadata": {},
   "outputs": [],
   "source": []
  }
 ],
 "metadata": {
  "kernelspec": {
   "display_name": "omni_chatbot",
   "language": "python",
   "name": "python3"
  },
  "language_info": {
   "codemirror_mode": {
    "name": "ipython",
    "version": 3
   },
   "file_extension": ".py",
   "mimetype": "text/x-python",
   "name": "python",
   "nbconvert_exporter": "python",
   "pygments_lexer": "ipython3",
   "version": "3.11.7"
  }
 },
 "nbformat": 4,
 "nbformat_minor": 2
}
